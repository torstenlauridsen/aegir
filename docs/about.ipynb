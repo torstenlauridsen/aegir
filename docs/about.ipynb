{
 "cells": [
  {
   "cell_type": "markdown",
   "metadata": {},
   "source": [
    "## About the name\n",
    "According to norse mythology Aegir is the God for water (he is actually one of only three \"jotuns\" i.e. troll-like creatures, that live in Asgaard) As the God for water his main domain is the sea, but he is also the God for beer and mead, and he is supposed to be an excellent mead brewer. As a mead brewer I assume that Aegir has often wondered about the precision of his densimeter based alcohol content estimations - Especially for brews with significant residual sugar, which meads often have. I've created this project to help Aegir improve his alcohol content estimations. You are also welcome to use it if you like."
   ]
  },
  {
   "cell_type": "markdown",
   "metadata": {},
   "source": [
    "## Calculations\n",
    "Calculations are based on a couple of assumptions. These assumptions leave us with a number of inter-related variables. The basic function we need to determine gives the density of a given mixture of water, ethanol and sugar at some temperature, i.e. in sketch form, the function would be as below:\n",
    "$$\\rho(water,ethanol,sugar,temperature)$$\n",
    "\n",
    "### Assumptions\n",
    "In order to make our lives easier we will make some main assumptions before we proceed:\n",
    "1. The solution contains only 3 components: water, ethanol and sugar\n",
    "2. The sugar is a mix of glucose and fructose\n",
    "3. For the initial measurement, the alcohol content i known (typically it is zero)\n",
    "\n",
    "### Units\n",
    "There's a number of different density measures in use in the brewing community; Brix, S.G., some weird french unit, etc. Some of these units are defined in a way so that temperature dependence is built-in, i.e. after reading your hydrometer, you will have to mulitply by some correction factor to get the \"density\" in the correct unit - which is then of course not truly a density unit, since it varies with temperature. Waow. Lets' simplify this! We will only use one measure, and it will, naturally, be in SI units:\n",
    "* We measure density in *kg/L*\n",
    "\n",
    "### Temperature dependence\n",
    "The density of the liquid depends on the temperature. We will apply a 3rd order correction to account for temperature-dependent variations:\n",
    "$$\\Delta \\rho = at³ + bt^2 + ct + d $$\n",
    "note that we make no assumption about the relative amounts of water, ethanol and sugar in our liquid; we assume the correction to be independent thereof\n",
    "\n",
    "### Minor assumptions\n",
    "1. Temperature is between ...\n",
    "2. Temperature dependence of density is approximated by a third degree polynomial and independent of content mixing ratios"
   ]
  },
  {
   "cell_type": "markdown",
   "metadata": {},
   "source": [
    "## References\n",
    "**[1]** *Cider maker's something*"
   ]
  },
  {
   "cell_type": "markdown",
   "metadata": {},
   "source": []
  }
 ],
 "metadata": {
  "kernelspec": {
   "display_name": "Python 3",
   "language": "python",
   "name": "python3"
  },
  "language_info": {
   "codemirror_mode": {
    "name": "ipython",
    "version": 2
   },
   "file_extension": ".py",
   "mimetype": "text/x-python",
   "name": "python",
   "nbconvert_exporter": "python",
   "pygments_lexer": "ipython2",
   "version": "2.7.17"
  }
 },
 "nbformat": 4,
 "nbformat_minor": 2
}
